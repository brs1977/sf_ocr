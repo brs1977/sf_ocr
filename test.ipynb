{
 "cells": [
  {
   "cell_type": "code",
   "execution_count": 1,
   "metadata": {},
   "outputs": [],
   "source": [
    "import cv2"
   ]
  },
  {
   "cell_type": "code",
   "execution_count": 3,
   "metadata": {},
   "outputs": [
    {
     "data": {
      "text/plain": [
       "'Приложение № 1 к постановлению Правительства Российской Федерации от 26 декабря 2011 г. № 1137\\n(в редакции постановления Правительства Российской Федерации от 19 августа 2017 г. № 981)\\nСчет-фактура № 3100 от 1 июля 2022 г. Исправление № -- от --\\nПродавец: ООО \"ТД \"Корпорация ВСМПО-АВИСМА\" Адрес: 624760, Свердловская обл, г Верхняя Салда, ул Парковая, д. 1 ИНН/КПП продавца: 6623114536/662301001 Грузоотправитель и его адрес: он же Грузополучатель и его адрес: АО \"Звезда-стрела\", РОССИЯ, 347904, Ростовская область, г Таганрог, пер 18-Й, д. 1 к. 1 К платежно-расчетному документу № 1887 от 27.05.2022 г. Покупатель: АО \"Звезда-стрела\" Адрес: РОССИЯ, 347904, Ростовская область, г Таганрог, пер 18-Й, д. 1 к. 1 ИНН/КПП покупателя: 6154160069/615401001 Валюта: наименование, код Российский рубль, 643 Идентификатор государственного контракта, договора (соглашения)(при наличии): -- Дополнение (условия оплаты по договору (контракту), способ отправления и т.п.): Спецификация №4 от 27.05.2022, Договор №ТД/643103607ТОМ от 03.03.2021 (7027-ТД), Дата отгрузки 01.07.2022 № а-м , Н662УК-40/, доверен. №251 от 28.06.2022 Беспалов\\nСтоимость\\nСтрана\\nСтоимость товаров\\nтоваров (работ,\\nНаименование товара (описание\\nЦена (тариф)\\nпроисхождения товара Регистрационный номер\\nКод вида\\nуслуг),\\nНалоговая\\nвыполненных работ, оказанных услуг),\\nСумма налога, предъявляемая\\nтовара\\nставка\\nусловное\\nимущественного права\\nЕдиница измерения Коли- чество (объем)\\nза единицу измерения\\nпокупателю\\n(работ, услуг), имущественных прав с налогом -\\nтаможенной декларации\\nцифровой\\nкраткое\\nимущественных прав без налога -\\nВ том числе сумма акциза\\nкод\\nобозначение\\nвсего\\nкод\\nнаименование\\nвсего\\n(национальное)\\n1 1а 2 2а 3 4 5 6 7 8 9 10 10а 11\\n-- 166 кг 82,0000 4 438,82 363 983,24 без акциза 20% 72 796,65 436 779,89 -- -- --\\nПруток Ф20/НД ВТ20 ОСТ 1 90173-75О 23 шт\\nВсего к оплате 363 983,24 Х 72 796,65 436 779,89\\nРуководитель организации или иное уполномоченное лицо ОХЛОПКОВ Д. В.\\nГлавный бухгалтер или иное уполномоченное лицо ГЛАГОЛЬЕВА Т. А.\\n(подпись) (ф.и.о.) (подпись) (ф.и.о.)\\nИндивидуальный предприниматель или иное уполномоченное лицо\\n(подпись) (ф.и.о.) (реквизиты свидетельства о государственной\\nрегистрации индивидуального предпринимателя)'"
      ]
     },
     "execution_count": 3,
     "metadata": {},
     "output_type": "execute_result"
    }
   ],
   "source": [
    "import fitz\n",
    "from pdf_splitter import pdf_page_text, temp_file_name\n",
    "filename = 'input/61482eb6-cabd-4429-a796-cddd4d1956a3.pdf'\n",
    "\n",
    "files = []\n",
    "with fitz.open(filename) as pdf_file:\n",
    "    \n",
    "    file_name = temp_file_name()  \n",
    "    pages = len(pdf_file)\n",
    "    for page_index in range(pages):                   \n",
    "        fn = f'{file_name}-{page_index+1}.pdf'\n",
    "        files.append(fn)\n",
    "        fn = os.path.join(tmp_dir, fn)\n",
    "        pdf_create_page_file(fn, pdf_file, page_index)\n",
    "\n",
    "    text = pdf_page_text(pdf_file[2])                \n",
    "    \n",
    "text\n",
    "#     info = self.extractor.extract_sf_data(text)\n",
    "#     if not info['buyer_inn'] and not info['seller_inn']:\n",
    "#         info = self.extractor.extract_sf_data_from_text_pdf(text)\n",
    "\n",
    "#     file_name = temp_file_name()  \n",
    "#     pages = len(pdf_file)\n",
    "#     for page_index in range(pages):                   \n",
    "#         fn = f'{file_name}-{page_index+1}.pdf'\n",
    "#         files.append(fn)\n",
    "#         fn = os.path.join(tmp_dir, fn)\n",
    "#         pdf_create_page_file(fn, pdf_file, page_index)\n",
    "\n",
    "\n",
    "#     info['files'] = files\n",
    "#     results.append(info)\n",
    "#     logger.debug(info)\n",
    "\n",
    "\n",
    "#     with open(os.path.join(tmp_dir, 'results.json'), 'w') as json_file:\n",
    "#         json_file.write(json.dumps(results))\n",
    "\n",
    "# # zip\n",
    "# shutil.make_archive(self.out_file_name, 'zip', tmp_dir)        \n",
    "# yield 1, 1, info\n"
   ]
  },
  {
   "cell_type": "code",
   "execution_count": 1,
   "metadata": {},
   "outputs": [],
   "source": [
    "# sf_date = self.extract_date(sf_date)\n",
    "from extractor import SfInfoExtractor\n",
    "from config import Config\n",
    "\n",
    "config = Config('config.yaml')\n",
    "extractor = SfInfoExtractor(config)\n",
    "\n",
    "\n"
   ]
  },
  {
   "cell_type": "code",
   "execution_count": 3,
   "metadata": {},
   "outputs": [
    {
     "name": "stderr",
     "output_type": "stream",
     "text": [
      "2022-09-26 15:50:58.810 | DEBUG    | __main__:<module>:3 - Entering 'extract_date' (args=(<extractor.SfInfoExtractor object at 0x7fe8f0ae73c8>, 'МИЕДОК ВА'), kwargs={})\n",
      "2022-09-26 15:50:58.811 | DEBUG    | __main__:<module>:3 - Exiting 'extract_date' (result=)\n"
     ]
    },
    {
     "data": {
      "text/plain": [
       "''"
      ]
     },
     "execution_count": 3,
     "metadata": {},
     "output_type": "execute_result"
    }
   ],
   "source": [
    "sf_date = 'МИЕДОК ВА'\n",
    "# sf_date = 'Ч ТР.1 ИЗ'\n",
    "extractor.extract_date(sf_date)\n",
    "# dt = sf_date\n",
    "# # extractor.extract_date(sf_date)\n",
    "# res = config.PATTERN_DATE_SEARCH.search(dt)\n",
    "# dt = res.groups()[1] if res else dt\n",
    "# split_data = config.PATTERN_DATE_SPLIT.split(dt)\n",
    "# print(len(split_data), len(split_data[0]))\n",
    "\n",
    "# dt = dt.replace('-','.')\n",
    "# dt = dt.replace('/','.')\n",
    "\n",
    "# dt_split = dt.split('.')\n",
    "# print(dt_split)\n"
   ]
  },
  {
   "cell_type": "code",
   "execution_count": 21,
   "metadata": {},
   "outputs": [
    {
     "name": "stdout",
     "output_type": "stream",
     "text": [
      "[(4, 0, 1705, 1240, 8, 'DeviceRGB', '', 'X0', 'FlateDecode')]\n"
     ]
    }
   ],
   "source": [
    "from pdf_splitter import PDFSplitter\n",
    "import fitz\n",
    "\n",
    "# spl = PDFSplitter(None,None,None,None,None)\n",
    "\n",
    "# for base_image, page_index, pages in spl.pdf_images_gen('/home/rttec/projects/sf_ocr/input/e70e638e-0981-4bda-8515-ee75c25a812e.pdf'):\n",
    "#     print(page_index,pages)\n",
    "\n",
    "def pdf_images_gen(file_name):\n",
    "    with fitz.open(file_name) as pdf_file:\n",
    "        pages = len(pdf_file)\n",
    "        # iterate over PDF pages\n",
    "        for page_index in range(pages):\n",
    "            # get the page itself\n",
    "            page = pdf_file[page_index]\n",
    "\n",
    "            print(page.get_images())\n",
    "            img = page.get_images()[0]  # there is only 1 image per page!\n",
    "            xref = img[0]\n",
    "\n",
    "            # pix = fitz.Pixmap(pdf_file, xref)\n",
    "            # pix.writeImage('./output/62_2.jpg')\n",
    "\n",
    "            # base_image = fitz.Pixmap(pdf_file, xref) \n",
    "            base_image = pdf_file.extract_image(xref)\n",
    "            # FlateDecode\n",
    "\n",
    "            yield base_image, page_index+1, pages\n",
    "            \n",
    "            # # get the page itself\n",
    "            # page = pdf_file[page_index]\n",
    "            # print(page.getImageList())\n",
    "\n",
    "            # for image_index, img in enumerate(page.get_images(), start=1):\n",
    "\n",
    "            #     # get the XREF of the image\n",
    "            #     xref = img[0]\n",
    "                \n",
    "\n",
    "            #     # extract the image bytes\n",
    "            #     base_image = pdf_file.extract_image(xref)\n",
    "            #     print(xref, image_index, base_image[\"ext\"], img)\n",
    "\n",
    "            #     yield base_image, page_index+1, pages\n",
    "\n",
    "\n",
    "import cv2\n",
    "import io\n",
    "import numpy as np\n",
    "from PIL import Image\n",
    "\n",
    "# for base_image, page_index, pages in pdf_images_gen('/home/rttec/projects/sf_ocr/input/e70e638e-0981-4bda-8515-ee75c25a812e.pdf'):\n",
    "for base_image, page_index, pages in pdf_images_gen('/home/rttec/projects/sf_ocr/input/63_2.pdf'):    \n",
    "    image_bytes = base_image[\"image\"]\n",
    "    \n",
    "\n",
    "    image_bytes = np.asarray(Image.open(io.BytesIO(image_bytes)))\n",
    "    # image_bytes = np.asarray(Image.frombytes('RGB', (2338,1700), image_bytes))\n",
    "    cv2.imwrite('/home/rttec/projects/sf_ocr/output/63_2.jpg', image_bytes)\n",
    "\n"
   ]
  },
  {
   "cell_type": "code",
   "execution_count": 1,
   "metadata": {},
   "outputs": [],
   "source": [
    "from hog_classifier import HogClassifier, load_model\n",
    "from config import Config\n",
    "from pdf_utils import * \n",
    "from extractor import SfInfoExtractor\n",
    "\n",
    "import argparse\n",
    "import warnings\n",
    "warnings.filterwarnings('ignore')\n",
    "\n",
    "\n",
    "config = Config('config.yaml')\n",
    "extractor = SfInfoExtractor(config)\n",
    "orient_clf = load_model('models/orient.pkl')\n",
    "type_clf = load_model('models/type.pkl')\n",
    "\n"
   ]
  },
  {
   "cell_type": "code",
   "execution_count": 23,
   "metadata": {},
   "outputs": [],
   "source": [
    "import pandas as pd\n",
    "df = pd.read_csv('output/csv/ocr11_6_9_new4.csv', dtype={'sf_no': str,'buyer_inn': str,'buyer_kpp': str,'seller_inn':str,'seller_kpp':str})"
   ]
  },
  {
   "cell_type": "code",
   "execution_count": 4,
   "metadata": {},
   "outputs": [
    {
     "data": {
      "text/plain": [
       "17.142857142857142"
      ]
     },
     "execution_count": 4,
     "metadata": {},
     "output_type": "execute_result"
    }
   ],
   "source": [
    "# df[df.text.str.len()<5].shape\n",
    "# df.text.str.len().min()\n",
    "# df.text.isna().sum()\n",
    "# df.shape\n",
    "600/35"
   ]
  },
  {
   "cell_type": "code",
   "execution_count": 38,
   "metadata": {},
   "outputs": [],
   "source": [
    "tdf = df[~df.sf_no.isna() | ~df.sf_date.isna() | ~df.buyer_inn.isna() | ~df.buyer_kpp.isna() | ~df.seller_inn.isna() | ~df.seller_kpp.isna()]\n",
    "tdf = tdf[tdf.sf_no.isna() | tdf.sf_date.isna() | tdf.buyer_inn.isna() | tdf.buyer_kpp.isna() | tdf.seller_inn.isna() | tdf.seller_kpp.isna()] "
   ]
  },
  {
   "cell_type": "code",
   "execution_count": null,
   "metadata": {},
   "outputs": [],
   "source": []
  },
  {
   "cell_type": "code",
   "execution_count": 10,
   "metadata": {},
   "outputs": [
    {
     "name": "stdout",
     "output_type": "stream",
     "text": [
      "output/csv/ocr11_6_new15.csv (996, 10) 21 24 114 114 115 115 0\n",
      "output/csv/ocr11_6_new14.csv (996, 10) 21 25 114 114 115 115 0\n",
      "output/csv/ocr11_6_new13.csv (996, 10) 23 34 117 117 116 116 0\n",
      "output/csv/ocr11_6_new12.csv (996, 10) 26 37 117 117 116 116 0\n",
      "output/csv/ocr11_6_new11.csv (997, 10) 26 42 125 125 120 120 0\n",
      "output/csv/ocr11_6_new10.csv (997, 10) 32 50 120 120 118 118 0\n",
      "output/csv/ocr11_6_new9.csv (997, 10) 36 47 121 121 118 118 0\n",
      "output/csv/ocr11_6_new8.csv (997, 10) 32 50 125 125 120 120 0\n",
      "output/csv/ocr11_6_new7.csv (997, 10) 38 51 128 128 121 121 0\n",
      "output/csv/ocr11_6_new6.csv (997, 10) 37 48 153 153 118 118 0\n",
      "output/csv/ocr11_6_new5.csv (997, 10) 37 50 138 138 120 120 0\n",
      "output/csv/ocr11_6_10_new4.csv (997, 10) 39 50 125 125 118 118 0\n",
      "output/csv/ocr11_6_9_new4.csv (997, 10) 39 49 125 125 118 118 0\n",
      "output/csv/ocr11_6_7_new4.csv (997, 10) 39 50 126 126 118 118 0\n",
      "output/csv/ocr11_4_new4.csv (997, 10) 61 62 130 130 122 122 0\n",
      "output/csv/ocr11_6_new4.csv (1142, 10) 184 195 270 270 263 263 0\n",
      "output/csv/ocr11_6_new3.csv (1142, 10) 184 195 270 270 263 263 0\n",
      "output/csv/ocr11_6_new2.csv (1142, 10) 180 194 337 337 261 261 0\n",
      "output/csv/ocr6_new1.csv (1142, 10) 275 316 309 309 293 293 0\n",
      "output/csv/ocr4_new1.csv (1142, 10) 352 373 284 284 288 288 0\n",
      "output/csv/ocr11_4_new1.csv (1142, 10) 187 204 265 265 267 267 0\n",
      "output/csv/ocr11_6_new1.csv (1142, 10) 182 192 265 265 260 260 0\n",
      "output/csv/ocr11_6_new.csv (1142, 10) 223 231 344 344 313 313 0\n",
      "output/csv/ocr11_6_br15.csv (1142, 10) 221 232 360 360 341 341 0\n",
      "output/csv/ocr11_6_br.csv (1142, 10) 222 243 363 363 341 341 0\n",
      "output/csv/ocr11_6.csv (1142, 10) 223 231 355 355 329 329 0\n",
      "output/csv/ocr6.csv (1142, 10) 307 350 407 407 374 374 0\n",
      "output/csv/ocr6_dpi.csv (1142, 10) 307 350 407 407 374 374 0\n",
      "output/csv/ocr11.csv (1142, 10) 266 270 380 380 359 359 0\n",
      "output/csv/ocr11_dpi.csv (1142, 10) 268 265 377 377 355 355 0\n"
     ]
    }
   ],
   "source": [
    "import pandas as pd\n",
    "files = ['ocr11_6_new15.csv','ocr11_6_new14.csv','ocr11_6_new13.csv','ocr11_6_new12.csv','ocr11_6_new11.csv','ocr11_6_new10.csv','ocr11_6_new9.csv','ocr11_6_new8.csv','ocr11_6_new7.csv','ocr11_6_new6.csv','ocr11_6_new5.csv','ocr11_6_10_new4.csv','ocr11_6_9_new4.csv','ocr11_6_7_new4.csv','ocr11_4_new4.csv','ocr11_6_new4.csv','ocr11_6_new3.csv','ocr11_6_new2.csv','ocr6_new1.csv','ocr4_new1.csv','ocr11_4_new1.csv','ocr11_6_new1.csv', 'ocr11_6_new.csv','ocr11_6_br15.csv','ocr11_6_br.csv','ocr11_6.csv','ocr6.csv','ocr6_dpi.csv','ocr11.csv','ocr11_dpi.csv']\n",
    "for file_name in files:\n",
    "    file_name = os.path.join('output/csv', file_name)\n",
    "    df = pd.read_csv(file_name, dtype={'sf_no': str,'buyer_inn': str,'buyer_kpp': str,'seller_inn':str,'seller_kpp':str})\n",
    "    tdf = df[df.file_name.apply(lambda x: x.split('_')[-1][0])!=1]\n",
    "    tdf = tdf[~tdf.text.isna()]\n",
    "    # tdf = df[~df.sf_no.isna() | ~df.sf_date.isna() | ~df.buyer_inn.isna() | ~df.buyer_kpp.isna() | ~df.seller_inn.isna() | ~df.seller_kpp.isna()]        \n",
    "    # tdf = tdf[tdf.sf_no.isna() | tdf.sf_date.isna() | tdf.buyer_inn.isna() | tdf.buyer_kpp.isna() | tdf.seller_inn.isna() | tdf.seller_kpp.isna()] \n",
    "    \n",
    "    \n",
    "    print(file_name,\n",
    "        tdf.shape,\n",
    "        tdf.sf_no.isna().sum(),\n",
    "        tdf.sf_date.isna().sum(),\n",
    "        tdf.buyer_inn.isna().sum(),\n",
    "        tdf.buyer_kpp.isna().sum(),\n",
    "        tdf.seller_inn.isna().sum(),\n",
    "        tdf.seller_kpp.isna().sum(),\n",
    "        tdf.text.isna().sum())"
   ]
  },
  {
   "cell_type": "code",
   "execution_count": 30,
   "metadata": {},
   "outputs": [
    {
     "data": {
      "text/html": [
       "<div>\n",
       "<style scoped>\n",
       "    .dataframe tbody tr th:only-of-type {\n",
       "        vertical-align: middle;\n",
       "    }\n",
       "\n",
       "    .dataframe tbody tr th {\n",
       "        vertical-align: top;\n",
       "    }\n",
       "\n",
       "    .dataframe thead th {\n",
       "        text-align: right;\n",
       "    }\n",
       "</style>\n",
       "<table border=\"1\" class=\"dataframe\">\n",
       "  <thead>\n",
       "    <tr style=\"text-align: right;\">\n",
       "      <th></th>\n",
       "      <th>sf_no</th>\n",
       "      <th>sf_date</th>\n",
       "      <th>buyer_inn</th>\n",
       "      <th>buyer_kpp</th>\n",
       "      <th>seller_inn</th>\n",
       "      <th>seller_kpp</th>\n",
       "      <th>file_name</th>\n",
       "      <th>typ</th>\n",
       "      <th>orient</th>\n",
       "      <th>text</th>\n",
       "    </tr>\n",
       "  </thead>\n",
       "  <tbody>\n",
       "    <tr>\n",
       "      <th>138</th>\n",
       "      <td>NaN</td>\n",
       "      <td>05.07.2021</td>\n",
       "      <td>1661008339</td>\n",
       "      <td>166101001</td>\n",
       "      <td>1658008515</td>\n",
       "      <td>165801001</td>\n",
       "      <td>eWwqyMBOt2qLdQ4MhyaIjktVGpCwwPIE4hUunYgr_5_sf_...</td>\n",
       "      <td>1</td>\n",
       "      <td>0</td>\n",
       "      <td>°\\n\\n&gt;\\n\\n1259\\n\\nот\\n\\n05 июля 2021\\n\\n(1)\\n\\...</td>\n",
       "    </tr>\n",
       "    <tr>\n",
       "      <th>164</th>\n",
       "      <td>NaN</td>\n",
       "      <td>24.03.22</td>\n",
       "      <td>NaN</td>\n",
       "      <td>NaN</td>\n",
       "      <td>7328067030</td>\n",
       "      <td>732801001</td>\n",
       "      <td>b2mMxthVU7OyxXe2V3cAcZcV2WNQASAfnEuurjdC_1_sf_...</td>\n",
       "      <td>1</td>\n",
       "      <td>0</td>\n",
       "      <td>че\\n\\n204\\n\\nэт\\n\\nЖ№1к\\n\\n‚от 26 декабря 2011...</td>\n",
       "    </tr>\n",
       "    <tr>\n",
       "      <th>211</th>\n",
       "      <td>NaN</td>\n",
       "      <td>05.02.2021</td>\n",
       "      <td>NaN</td>\n",
       "      <td>NaN</td>\n",
       "      <td>7720642477</td>\n",
       "      <td>772001001</td>\n",
       "      <td>WDrT0WTJVES5YE8lEmdhLACtBYqU8ZYaiPSvaQjs_2_sf_...</td>\n",
       "      <td>1</td>\n",
       "      <td>0</td>\n",
       "      <td>89\\n\\nПриложение № 1 к постановлению Правитель...</td>\n",
       "    </tr>\n",
       "  </tbody>\n",
       "</table>\n",
       "</div>"
      ],
      "text/plain": [
       "    sf_no     sf_date   buyer_inn  buyer_kpp  seller_inn seller_kpp  \\\n",
       "138   NaN  05.07.2021  1661008339  166101001  1658008515  165801001   \n",
       "164   NaN    24.03.22         NaN        NaN  7328067030  732801001   \n",
       "211   NaN  05.02.2021         NaN        NaN  7720642477  772001001   \n",
       "\n",
       "                                             file_name  typ  orient  \\\n",
       "138  eWwqyMBOt2qLdQ4MhyaIjktVGpCwwPIE4hUunYgr_5_sf_...    1       0   \n",
       "164  b2mMxthVU7OyxXe2V3cAcZcV2WNQASAfnEuurjdC_1_sf_...    1       0   \n",
       "211  WDrT0WTJVES5YE8lEmdhLACtBYqU8ZYaiPSvaQjs_2_sf_...    1       0   \n",
       "\n",
       "                                                  text  \n",
       "138  °\\n\\n>\\n\\n1259\\n\\nот\\n\\n05 июля 2021\\n\\n(1)\\n\\...  \n",
       "164  че\\n\\n204\\n\\nэт\\n\\nЖ№1к\\n\\n‚от 26 декабря 2011...  \n",
       "211  89\\n\\nПриложение № 1 к постановлению Правитель...  "
      ]
     },
     "execution_count": 30,
     "metadata": {},
     "output_type": "execute_result"
    }
   ],
   "source": [
    "tdf[tdf.sf_no.isna()].iloc[:3]"
   ]
  },
  {
   "cell_type": "code",
   "execution_count": null,
   "metadata": {},
   "outputs": [],
   "source": [
    "for row in tdf[tdf.sf_no.isna()].iloc[:3].iterrows():\n",
    "    print(row[1].text)\n"
   ]
  },
  {
   "cell_type": "code",
   "execution_count": null,
   "metadata": {},
   "outputs": [],
   "source": [
    "file_name = 'dataset/png/rMmb25ZRVsor1x7g8QlnjoSiY2Ba2YvWIDa3HLIs_5_sf_0.png'\n",
    "file_name = 'dataset/png/PpdtFn0HHMiY0rSafWau6t49U7OIzmwqcp2JL6FZ_1_sf_0.png'\n",
    "\n",
    "# img = cv2.imread(file_name)\n",
    "# cv2.imshow('1',img)\n",
    "# from IPython.display import Image\n",
    "# Image(filename=file_name) \n",
    "\n",
    "from IPython.display import display\n",
    "from PIL import Image\n",
    "\n",
    "\n",
    "\n",
    "display(Image.open(file_name))\n"
   ]
  },
  {
   "cell_type": "code",
   "execution_count": null,
   "metadata": {},
   "outputs": [],
   "source": [
    "import cv2\n",
    "import os\n",
    "\n",
    "def increase_brightness(img, value=30):\n",
    "    hsv = cv2.cvtColor(img, cv2.COLOR_BGR2HSV)\n",
    "    h, s, v = cv2.split(hsv)\n",
    "    lim = 255 - value\n",
    "    v[v > lim] = 255\n",
    "    v[v <= lim] += value\n",
    "    final_hsv = cv2.merge((h, s, v))\n",
    "    img = cv2.cvtColor(final_hsv, cv2.COLOR_HSV2BGR)\n",
    "    return img  \n",
    "\n",
    "\n",
    "# **Sharpen the image using Kernel Sharpening Technique**\n",
    "\n",
    "\n",
    "def final_image(rotated):\n",
    "    # # Create our shapening kernel, it must equal to one eventually\n",
    "    # kernel_sharpening = np.array([[0,-1,0], \n",
    "    #                             [-1, 5,-1],\n",
    "    #                             [0,-1,0]])\n",
    "    # # applying the sharpening kernel to the input image & displaying it.\n",
    "    # sharpened = cv2.filter2D(rotated, -1, kernel_sharpening)\n",
    "    sharpened=increase_brightness(rotated,30)  \n",
    "    return sharpened\n",
    "\n",
    "data = []\n",
    "for file_name in tdf[tdf.sf_no.isna()].file_name.values[:10]:\n",
    "    file_name = os.path.join('dataset/png', file_name)    \n",
    "    img = cv2.imread(file_name)\n",
    "    h,w = img.shape[:2]\n",
    "    d = dpi(w,h)\n",
    "        \n",
    "    # заголовок страницы с инфо по с/ф\n",
    "    head_img = extractor.head_roi(img)\n",
    "\n",
    "    # head_img = final_image(head_img)\n",
    "\n",
    "    text = ocr_rus(head_img, config = f'--oem 1 --psm 11 --dpi {d}')\n",
    "    # text = ocr_rus(head_img, config = f'--oem 1 --psm 12 --dpi {d}')\n",
    "    info = extractor.extract_sf_data(text)\n",
    "    text = [ x for x in text.split('\\n') if len(x) > 2]    \n",
    "    data.append(info)\n",
    "    print(file_name,h,w,d)\n",
    "    print(info)\n",
    "    print('\\n'.join(text))\n",
    "    # break\n",
    "\n",
    "l_sf_no = []\n",
    "for x in data:\n",
    "    l_sf_no.append(x['sf_no'])\n",
    "l_sf_no\n",
    "\n",
    "# ['', None, None, None, None, None, None, None, None, None]\n",
    "\n",
    "# ['1247', '259', '204НЕРО0', 'ПЕРЕДАТОЧНЫЙДОКУМЕНТ2', '0311007КУ', '', 'ЦО4796', None, '108','87'] 3\n",
    "# ['1247', '', None, 'ПЕРЕДАТОЧНЫЙДОКУМЕНТ2', '0311007КУ', '', 'ЦО4796', None, '108', '87'] 3 d\n",
    "# ['1247',  '259', None, '89', '0З11007КУ', 'ПОНИ3', 'ЦО4796', None, '108', '87'] 4\n",
    "# ['1247', '1259', None, None, '0З11007КУ', '888', 'ЦО4796', None, '108', '87'] 4 d\n",
    "# ['1247', '1259', '', '9.ЭФЕС0АООАДААРЕННОСТАИННЕПРИОНЛЬСТАРООСНКНОЙФЕДЕРАЦИЯСТ19МАГУ2017Г.1991', '0311007КУ', '888', 'ЦО4796', None, '108', '87'] 6\n",
    "# ['1247', '1259', '', '9.ЭФЕС0АООАДААРЕННОСТАИННЕПРИОНЛЬСТАРООСНКНОЙФЕДЕРАЦИЯСТ19МАГУ2017Г.1991', '0311007КУ', '888', 'ЦО4796', None, '108','87'] 6 d\n",
    "# [None, '1259', None, '', '', '888', '', None, '108', ''] 11\n",
    "# [None, '', '', '', '', '', '', None, '', ''] 11 d\n",
    "# [None, '1259', None, '', '', '888', '', None, '108', ''] 12\n",
    "# [None, '', '', '', '', '', '', None, '', ''] 12 d\n",
    "\n"
   ]
  },
  {
   "cell_type": "code",
   "execution_count": 20,
   "metadata": {},
   "outputs": [
    {
     "data": {
      "text/plain": [
       "array(['kXe4qzgD09U1vgP35EWxlwFIM8vIQ3JCMVRWhK5s_1_sf_0.png',\n",
       "       'PbRflNmQrPbTaLmTGzLq5U2raz81qDJ3J6Rn64Wd_11_sf_0.png',\n",
       "       'bS3vL3MvkpzuedS9xy69JLBm9NuD6tkk0su8qsws_1_sf_1.png',\n",
       "       'IG1lduvXyj0pDCqIw7WsRnU7wDs2aol5gEsBy1yT_4_sf_0.png',\n",
       "       'XAXJytkAXtJdUJC2oouIFLvqnK3cM3I5GogcPxo2_6_sf_0.png',\n",
       "       'pq4euZRnofWRsfCirtMxgKH9kuCq0vqeshWQ9fDi_28_sf_0.png',\n",
       "       'ExyafUnkKhsDxA8fExApcDOvqLEdlqMiGQgMK62Q_1_sf_0.png',\n",
       "       'JmRdrSAadS7cDrqWnWDedk568dQpATm5KkRWZDp7_1_sf_1.png',\n",
       "       'udu9qje2ZciGGId5lL5xXX1nqZCPfUVqP88nnV1o_13_sf_0.png',\n",
       "       'nbVsohY7mx0YslvWsqoFNblFqDipQDGl3SPE2zrN_1_sf_0.png',\n",
       "       '9maepiW2g3JIUfoQldhqUCSL39vY2OalTe18UZB0_51_sf_0.png'],\n",
       "      dtype=object)"
      ]
     },
     "execution_count": 20,
     "metadata": {},
     "output_type": "execute_result"
    }
   ],
   "source": [
    "df[(df.text.str.len()>200) & (df.text.str.len()<300)].file_name.values"
   ]
  }
 ],
 "metadata": {
  "kernelspec": {
   "display_name": "Python 3.6.9 64-bit",
   "language": "python",
   "name": "python3"
  },
  "language_info": {
   "codemirror_mode": {
    "name": "ipython",
    "version": 3
   },
   "file_extension": ".py",
   "mimetype": "text/x-python",
   "name": "python",
   "nbconvert_exporter": "python",
   "pygments_lexer": "ipython3",
   "version": "3.6.9"
  },
  "orig_nbformat": 4,
  "vscode": {
   "interpreter": {
    "hash": "31f2aee4e71d21fbe5cf8b01ff0e069b9275f58929596ceb00d14d90e3e16cd6"
   }
  }
 },
 "nbformat": 4,
 "nbformat_minor": 2
}
